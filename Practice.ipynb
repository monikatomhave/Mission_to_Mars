{
 "cells": [
  {
   "cell_type": "code",
   "execution_count": 12,
   "id": "35207706",
   "metadata": {},
   "outputs": [],
   "source": [
    "from splinter import Browser\n",
    "from bs4 import BeautifulSoup as soup\n",
    "from webdriver_manager.chrome import ChromeDriverManager"
   ]
  },
  {
   "cell_type": "code",
   "execution_count": 14,
   "id": "56623823",
   "metadata": {},
   "outputs": [],
   "source": [
    "# Set the executable path and initialize a browser; set up splinter\n",
    "executable_path = {'executable_path': ChromeDriverManager().install()}\n",
    "browser = Browser('chrome', **executable_path, headless=False)"
   ]
  },
  {
   "cell_type": "code",
   "execution_count": 15,
   "id": "e14ac6f7",
   "metadata": {},
   "outputs": [],
   "source": [
    "# Visit the Quotes to Scrape site\n",
    "url = 'http://quotes.toscrape.com/'\n",
    "browser.visit(url)"
   ]
  },
  {
   "cell_type": "code",
   "execution_count": 18,
   "id": "dafa77c6",
   "metadata": {},
   "outputs": [],
   "source": [
    "# Parse the HTML\n",
    "html = browser.html\n",
    "html_soup = soup(html, 'html.parser')\n",
    "\n",
    "# View html_soup\n",
    "html_soup"
   ]
  },
  {
   "cell_type": "code",
   "execution_count": 19,
   "id": "f1cc8305",
   "metadata": {},
   "outputs": [],
   "source": [
    "# Scrape the Title\n",
    "title = html_soup.find('h2').text\n",
    "title"
   ]
  },
  {
   "cell_type": "code",
   "execution_count": 20,
   "id": "5c16d33e",
   "metadata": {},
   "outputs": [],
   "source": [
    "# Scrape the top ten tags\n",
    "tag_box = html_soup.find('div', class_='tags-box')\n",
    "# tag_box\n",
    "\n",
    "#tag_box\n",
    "tags = tag_box.find_all('a', class_='tag')\n",
    "tags\n",
    "\n",
    "# for tag in tags:\n",
    "#     word = tag.text\n",
    "#     print(word)"
   ]
  },
  {
   "cell_type": "code",
   "execution_count": 21,
   "id": "1448d065",
   "metadata": {},
   "outputs": [],
   "source": [
    "# Make a browser instance again (optional)\n",
    "url = 'http://quotes.toscrape.com/'\n",
    "browser.visit(url)\n"
   ]
  },
  {
   "cell_type": "code",
   "execution_count": 23,
   "id": "c4dee519",
   "metadata": {},
   "outputs": [],
   "source": [
    "# Create a for loop that will scrape the quotes from the first five pages\n",
    "for x in range(1,6):\n",
    "    html = browser.html\n",
    "    quote_soup = soup(html, 'html.parser')\n",
    "    quotes = quote_soup.find_all('span', class_='text')\n",
    "    for quote in quotes:\n",
    "        print('page:', x, '----------')\n",
    "        print(quote.text)\n",
    "    browser.links.find_by_partial_text('Next').click()"
   ]
  },
  {
   "cell_type": "code",
   "execution_count": 24,
   "id": "3b9b1024",
   "metadata": {},
   "outputs": [],
   "source": [
    "# Skill Drill: Scrape book URL list\n",
    "\n",
    "# Make a browser instance\n",
    "url = 'http://books.toscrape.com/'\n",
    "browser.visit(url)"
   ]
  },
  {
   "cell_type": "code",
   "execution_count": 25,
   "id": "8734441e",
   "metadata": {},
   "outputs": [],
   "source": [
    "# Create a for loop that will scrape the book URLs on the first page\n",
    "html = browser.html\n",
    "book_soup = soup(html, 'html.parser')\n",
    "books = book_soup.find_all('h3')\n",
    "\n",
    "for book in books:\n",
    "    url = book.find('a')['href']\n",
    "    print(url)"
   ]
  },
  {
   "cell_type": "code",
   "execution_count": null,
   "id": "7167729b",
   "metadata": {},
   "outputs": [],
   "source": []
  }
 ],
 "metadata": {
  "kernelspec": {
   "display_name": "Python 3 (ipykernel)",
   "language": "python",
   "name": "python3"
  },
  "language_info": {
   "codemirror_mode": {
    "name": "ipython",
    "version": 3
   },
   "file_extension": ".py",
   "mimetype": "text/x-python",
   "name": "python",
   "nbconvert_exporter": "python",
   "pygments_lexer": "ipython3",
   "version": "3.9.12"
  }
 },
 "nbformat": 4,
 "nbformat_minor": 5
}
