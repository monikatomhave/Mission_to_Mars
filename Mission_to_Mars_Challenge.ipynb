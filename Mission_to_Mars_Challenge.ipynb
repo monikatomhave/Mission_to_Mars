{
 "cells": [
  {
   "cell_type": "code",
   "execution_count": 1,
   "id": "772ad19c",
   "metadata": {},
   "outputs": [],
   "source": [
    "# Import Splinter and BeautifulSoup\n",
    "from splinter import Browser\n",
    "from bs4 import BeautifulSoup as soup\n",
    "from webdriver_manager.chrome import ChromeDriverManager\n",
    "import pandas as pd"
   ]
  },
  {
   "cell_type": "code",
   "execution_count": 3,
   "id": "5d42902e",
   "metadata": {},
   "outputs": [],
   "source": [
    "executable_path = {'executable_path': ChromeDriverManager().install()}\n",
    "browser = Browser('chrome', **executable_path, headless=False)"
   ]
  },
  {
   "cell_type": "code",
   "execution_count": null,
   "id": "ca77663b",
   "metadata": {},
   "outputs": [],
   "source": [
    "# Visit the mars nasa news site\n",
    "url = 'https://redplanetscience.com'\n",
    "browser.visit(url)\n",
    "# Optional delay for loading the page\n",
    "browser.is_element_present_by_css('div.list_text', wait_time=1)"
   ]
  },
  {
   "cell_type": "code",
   "execution_count": null,
   "id": "c79c51a4",
   "metadata": {},
   "outputs": [],
   "source": [
    "html = browser.html\n",
    "news_soup = soup(html, 'html.parser')\n",
    "slide_elem = news_soup.select_one('div.list_text')"
   ]
  },
  {
   "cell_type": "code",
   "execution_count": null,
   "id": "56caff87",
   "metadata": {},
   "outputs": [],
   "source": [
    "slide_elem.find('div', class_='content_title')"
   ]
  },
  {
   "cell_type": "code",
   "execution_count": null,
   "id": "7a5abb98",
   "metadata": {},
   "outputs": [],
   "source": [
    "# Use the parent element to find the first `a` tag and save it as `news_title`\n",
    "news_title = slide_elem.find('div', class_='content_title').get_text()\n",
    "news_title"
   ]
  },
  {
   "cell_type": "code",
   "execution_count": null,
   "id": "55511fd1",
   "metadata": {},
   "outputs": [],
   "source": [
    "# Use the parent element to find the paragraph text\n",
    "news_p = slide_elem.find('div', class_='article_teaser_body').get_text()\n",
    "news_p"
   ]
  },
  {
   "cell_type": "markdown",
   "id": "425ad43b",
   "metadata": {},
   "source": [
    "Feature Images"
   ]
  },
  {
   "cell_type": "code",
   "execution_count": null,
   "id": "e3c96340",
   "metadata": {},
   "outputs": [],
   "source": [
    "# Visit URL\n",
    "url = 'https://spaceimages-mars.com'\n",
    "browser.visit(url)"
   ]
  },
  {
   "cell_type": "code",
   "execution_count": null,
   "id": "da304e22",
   "metadata": {},
   "outputs": [],
   "source": [
    "# Find and click the full image button\n",
    "full_image_elem = browser.find_by_tag('button')[1]\n",
    "full_image_elem.click()"
   ]
  },
  {
   "cell_type": "code",
   "execution_count": null,
   "id": "c535bd8d",
   "metadata": {},
   "outputs": [],
   "source": [
    "# Parse the resulting html with soup\n",
    "html = browser.html\n",
    "img_soup = soup(html, 'html.parser')"
   ]
  },
  {
   "cell_type": "code",
   "execution_count": null,
   "id": "dea7f77e",
   "metadata": {},
   "outputs": [],
   "source": [
    "# Find the relative image url\n",
    "img_url_rel = img_soup.find('img', class_='fancybox-image').get('src')\n",
    "img_url_rel"
   ]
  },
  {
   "cell_type": "code",
   "execution_count": null,
   "id": "4688f253",
   "metadata": {},
   "outputs": [],
   "source": [
    "# Use the base URL to create an absolute URL\n",
    "img_url = f'https://spaceimages-mars.com/{img_url_rel}'\n",
    "img_url"
   ]
  },
  {
   "cell_type": "code",
   "execution_count": null,
   "id": "92d926fe",
   "metadata": {},
   "outputs": [],
   "source": [
    "df = pd.read_html('https://galaxyfacts-mars.com')[0]\n",
    "df.columns=['description', 'Mars', 'Earth']\n",
    "df.set_index('description', inplace=True)\n",
    "df"
   ]
  },
  {
   "cell_type": "code",
   "execution_count": null,
   "id": "5859fbb1",
   "metadata": {},
   "outputs": [],
   "source": [
    "df.to_html()"
   ]
  },
  {
   "cell_type": "markdown",
   "id": "677ed016",
   "metadata": {},
   "source": [
    "Challenge Code from Starter file"
   ]
  },
  {
   "cell_type": "code",
   "execution_count": null,
   "id": "59d10017",
   "metadata": {},
   "outputs": [],
   "source": [
    "# Import Splinter, BeautifulSoup, and Pandas\n",
    "from splinter import Browser\n",
    "from bs4 import BeautifulSoup as soup\n",
    "import pandas as pd\n",
    "from webdriver_manager.chrome import ChromeDriverManager"
   ]
  },
  {
   "cell_type": "code",
   "execution_count": null,
   "id": "918e39f7",
   "metadata": {},
   "outputs": [],
   "source": [
    "# Set the executable path and initialize Splinter\n",
    "executable_path = {'executable_path': ChromeDriverManager().install()}\n",
    "browser = Browser('chrome', **executable_path, headless=False)"
   ]
  },
  {
   "cell_type": "markdown",
   "id": "25281c23",
   "metadata": {},
   "source": [
    "Visit the NASA Mars News Site"
   ]
  },
  {
   "cell_type": "code",
   "execution_count": null,
   "id": "60224ad7",
   "metadata": {},
   "outputs": [],
   "source": [
    "# Visit the mars nasa news site\n",
    "url = 'https://redplanetscience.com/'\n",
    "browser.visit(url)\n",
    "\n",
    "# Optional delay for loading the page\n",
    "browser.is_element_present_by_css('div.list_text', wait_time=1)"
   ]
  },
  {
   "cell_type": "code",
   "execution_count": null,
   "id": "c2cfe20c",
   "metadata": {},
   "outputs": [],
   "source": [
    "# Convert the browser html to a soup object and then quit the browser\n",
    "html = browser.html\n",
    "news_soup = soup(html, 'html.parser')\n",
    "\n",
    "slide_elem = news_soup.select_one('div.list_text')\n",
    "slide_elem"
   ]
  },
  {
   "cell_type": "code",
   "execution_count": null,
   "id": "7c205764",
   "metadata": {},
   "outputs": [],
   "source": [
    "slide_elem.find('div', class_='content_title')"
   ]
  },
  {
   "cell_type": "code",
   "execution_count": null,
   "id": "d888254d",
   "metadata": {},
   "outputs": [],
   "source": [
    "# Use the parent element to find the first a tag and save it as `news_title`\n",
    "news_title = slide_elem.find('div', class_='content_title').get_text()\n",
    "news_title"
   ]
  },
  {
   "cell_type": "code",
   "execution_count": null,
   "id": "f8d3c1c4",
   "metadata": {},
   "outputs": [],
   "source": [
    "# Use the parent element to find the paragraph text\n",
    "news_p = slide_elem.find('div', class_='article_teaser_body').get_text()\n",
    "news_p"
   ]
  },
  {
   "cell_type": "markdown",
   "id": "4b7f82e9",
   "metadata": {},
   "source": [
    "JPL Space Images Featured Image"
   ]
  },
  {
   "cell_type": "code",
   "execution_count": null,
   "id": "693290ab",
   "metadata": {},
   "outputs": [],
   "source": [
    "# Visit URL\n",
    "url = 'https://spaceimages-mars.com'\n",
    "browser.visit(url)"
   ]
  },
  {
   "cell_type": "code",
   "execution_count": null,
   "id": "c35dc2b5",
   "metadata": {},
   "outputs": [],
   "source": [
    "# Find and click the full image button\n",
    "full_image_elem = browser.find_by_tag('button')[1]\n",
    "full_image_elem.click()"
   ]
  },
  {
   "cell_type": "code",
   "execution_count": null,
   "id": "fc6ec818",
   "metadata": {},
   "outputs": [],
   "source": [
    "# Parse the resulting html with soup\n",
    "html = browser.html\n",
    "img_soup = soup(html, 'html.parser')\n",
    "img_soup"
   ]
  },
  {
   "cell_type": "code",
   "execution_count": null,
   "id": "55560f8e",
   "metadata": {},
   "outputs": [],
   "source": [
    "# find the relative image url\n",
    "img_url_rel = img_soup.find('img', class_='fancybox-image').get('src')\n",
    "img_url_rel"
   ]
  },
  {
   "cell_type": "code",
   "execution_count": null,
   "id": "8464c1c4",
   "metadata": {},
   "outputs": [],
   "source": [
    "# Use the base url to create an absolute url\n",
    "img_url = f'https://spaceimages-mars.com/{img_url_rel}'\n",
    "img_url"
   ]
  },
  {
   "cell_type": "markdown",
   "id": "cb7c7824",
   "metadata": {},
   "source": [
    "Mars Facts"
   ]
  },
  {
   "cell_type": "code",
   "execution_count": null,
   "id": "44c4eab0",
   "metadata": {},
   "outputs": [],
   "source": [
    "df = pd.read_html('https://galaxyfacts-mars.com')[0]\n",
    "df.head()"
   ]
  },
  {
   "cell_type": "code",
   "execution_count": null,
   "id": "f52cec55",
   "metadata": {},
   "outputs": [],
   "source": [
    "df.columns=['Description', 'Mars', 'Earth']\n",
    "df.set_index('Description', inplace=True)\n",
    "df"
   ]
  },
  {
   "cell_type": "code",
   "execution_count": null,
   "id": "1d10cdbf",
   "metadata": {},
   "outputs": [],
   "source": [
    "df.to_html()"
   ]
  },
  {
   "cell_type": "markdown",
   "id": "3c39cb99",
   "metadata": {},
   "source": [
    "D1: Scrape High-Resolution Mars’ Hemisphere Images and Titles"
   ]
  },
  {
   "cell_type": "markdown",
   "id": "8b667896",
   "metadata": {},
   "source": [
    "Hemispheres"
   ]
  },
  {
   "cell_type": "code",
   "execution_count": null,
   "id": "82528bb6",
   "metadata": {},
   "outputs": [],
   "source": [
    "# 1. Use browser to visit the URL \n",
    "url = 'https://marshemispheres.com/'\n",
    "\n",
    "browser.visit(url)"
   ]
  },
  {
   "cell_type": "code",
   "execution_count": null,
   "id": "2a25152e",
   "metadata": {},
   "outputs": [],
   "source": [
    "# Parse the resulting html with soup\n",
    "html = browser.html\n",
    "img_soup = soup(html, 'html.parser')\n",
    "img_soup"
   ]
  },
  {
   "cell_type": "code",
   "execution_count": null,
   "id": "03b3a371",
   "metadata": {},
   "outputs": [],
   "source": [
    "# Scrape for just one image url \n",
    "img_item = img_soup.find_all('div', class_='item')[0].find('a')['href']\n",
    "img_item"
   ]
  },
  {
   "cell_type": "code",
   "execution_count": null,
   "id": "78493499",
   "metadata": {},
   "outputs": [],
   "source": [
    "# Scrape for all of the image urls\n",
    "img_items = img_soup.find_all('div', class_='item')\n",
    "for img in img_items:\n",
    "    img_url = img.find('a')['href']\n",
    "    #browser.find_by_css(string).a.product-item.click() <-- HTML element\n",
    "    #sample image anchor tag .find_by_text <-- a tag text\n",
    "    \n",
    "    print(img_url)"
   ]
  },
  {
   "cell_type": "code",
   "execution_count": null,
   "id": "485132ef",
   "metadata": {},
   "outputs": [],
   "source": [
    "# List comprehension\n",
    "[print(img.find('a')['href']) for img in img_items]"
   ]
  },
  {
   "cell_type": "code",
   "execution_count": null,
   "id": "b6ed5f5b",
   "metadata": {},
   "outputs": [],
   "source": [
    "# Use find_by_css to navigate to full-resolution page\n",
    "div_css = browser.find_by_css('div[class=\"item\"]')[0]\n",
    "div_css.click()"
   ]
  },
  {
   "cell_type": "code",
   "execution_count": null,
   "id": "e657416f",
   "metadata": {},
   "outputs": [],
   "source": [
    "# Scrape for just one image title\n",
    "img_title = img_soup.find_all('div', class_='item')[0].find('h3').text\n",
    "img_title"
   ]
  },
  {
   "cell_type": "code",
   "execution_count": null,
   "id": "adaded33",
   "metadata": {},
   "outputs": [],
   "source": [
    "# Scrape for all of the image titles\n",
    "img_titles = img_soup.find_all('div', class_='item')\n",
    "for title in img_titles:\n",
    "    img_title = title.find('h3').text\n",
    "    print(img_title)"
   ]
  },
  {
   "cell_type": "code",
   "execution_count": null,
   "id": "944477b5",
   "metadata": {},
   "outputs": [],
   "source": [
    "# Figure out how to navigate to the HTML link to the full-size image and click it\n",
    "\n",
    "full_image_elem = browser.find_by_css('a.product-item h3')[0]\n",
    "full_image_elem.click()\n",
    "\n",
    "# Use index to navigate to each individual page"
   ]
  },
  {
   "cell_type": "code",
   "execution_count": null,
   "id": "976d3fa1",
   "metadata": {},
   "outputs": [],
   "source": [
    "# Create a for loop to grab all the full image URLs\n",
    "for i in range(4):\n",
    "    full_image_elem = browser.find_by_css('a.product-item h3')[i]\n",
    "    full_image_elem.click()\n",
    "    full_image_URL = browser.find_by_text('Sample')['href']\n",
    "    print(full_image_URL)\n",
    "    browser.back()"
   ]
  },
  {
   "cell_type": "code",
   "execution_count": null,
   "id": "59cf0756",
   "metadata": {},
   "outputs": [],
   "source": [
    "div_items = img_soup.find_all('div', class_='item')\n",
    "hemisphere_image_urls = []\n",
    "i = 0\n",
    "for div_item in div_items:\n",
    "    dict = {}\n",
    "    img_elem = browser.find_by_css('a.product-item h3')[i]\n",
    "    img_elem.click()\n",
    "    img_URL = browser.find_by_text('Sample')['href']\n",
    "    dict['img_url'] = img_URL\n",
    "    browser.back()\n",
    "    dict['title'] = div_item.find('h3').text\n",
    "    hemisphere_image_urls.append(dict)\n",
    "    i += 1\n",
    "\n",
    "hemisphere_image_urls"
   ]
  },
  {
   "cell_type": "code",
   "execution_count": null,
   "id": "552a0b32",
   "metadata": {},
   "outputs": [],
   "source": [
    "# 2. Create a list to hold the images and titles.\n",
    "hemisphere_image_urls = []\n",
    "\n",
    "# 3. Write code to retrieve the image urls and titles for each hemisphere.\n",
    "#for i in range(4):\n",
    "#    hemispheres = {}\n",
    "#    browser.find_by_css('a.product-item h3')[i].click()\n",
    "#    element = browser.find_by_text('Sample').first\n",
    "#    img_url = element['href']\n",
    "#    title = browser.find_by_css(\"h2.title\").text\n",
    "#    hemispheres[\"img_url\"] = img_url\n",
    "#    hemispheres[\"title\"] = title\n",
    "#    hemisphere_image_urls.append(hemispheres)\n",
    "#    browser.back()\n",
    "\n",
    "# Parse the resulting html with soup\n",
    "html = browser.html\n",
    "img_soup = soup(html, 'html.parser')\n",
    "\n",
    "# Retrive the image urls and titles\n",
    "div_items = img_soup.find_all('div', class_='item')\n",
    "hemisphere_image_urls = []\n",
    "\n",
    "i = 0\n",
    "for div_item in div_items:\n",
    "    dict = {}\n",
    "    img_elem = browser.find_by_css('a.product-item h3')[i]\n",
    "    img_elem.click()\n",
    "    img_URL = browser.find_by_text('Sample')['href']\n",
    "    dict['img_url'] = img_URL\n",
    "    browser.back()\n",
    "    title = div_item.find('h3').text\n",
    "    dict['title'] = title\n",
    "    hemisphere_image_urls.append(dict)\n",
    "    i += 1\n"
   ]
  },
  {
   "cell_type": "code",
   "execution_count": null,
   "id": "f2d1f9b5",
   "metadata": {},
   "outputs": [],
   "source": [
    "# 4. Print the list that holds the dictionary of each image url and title.\n",
    "hemisphere_image_urls"
   ]
  },
  {
   "cell_type": "code",
   "execution_count": null,
   "id": "33dc94fa",
   "metadata": {},
   "outputs": [],
   "source": [
    "# 5. Quit the browser\n",
    "browser.quit()"
   ]
  }
 ],
 "metadata": {
  "kernelspec": {
   "display_name": "Python 3 (ipykernel)",
   "language": "python",
   "name": "python3"
  },
  "language_info": {
   "codemirror_mode": {
    "name": "ipython",
    "version": 3
   },
   "file_extension": ".py",
   "mimetype": "text/x-python",
   "name": "python",
   "nbconvert_exporter": "python",
   "pygments_lexer": "ipython3",
   "version": "3.9.12"
  }
 },
 "nbformat": 4,
 "nbformat_minor": 5
}
